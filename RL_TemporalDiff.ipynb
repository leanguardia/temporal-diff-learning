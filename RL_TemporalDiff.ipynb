{
 "cells": [
  {
   "cell_type": "markdown",
   "metadata": {
    "colab_type": "text",
    "id": "creWbxPTj5r2"
   },
   "source": [
    "# Temporal Difference\n",
    "Implement the basic TD learning algorithm (i.e. tabular TD(0)) to find a good path (given by a policy) for an agent exploring the environment from a starting point to a reward location in a simple environment.\n",
    "\n",
    "Where **S** is the starting location and **E** the end location."
   ]
  },
  {
   "cell_type": "markdown",
   "metadata": {},
   "source": [
    "## Environment"
   ]
  },
  {
   "cell_type": "code",
   "execution_count": 177,
   "metadata": {
    "colab": {},
    "colab_type": "code",
    "id": "zTXjXynvj8DC"
   },
   "outputs": [],
   "source": [
    "import numpy as np\n",
    "from collections import namedtuple\n",
    "\n",
    "WORLD = np.array([\n",
    "  [' ', ' ', ' ', ' ', ' ', ' ', ' '],\n",
    "  [' ', 'W', 'W', 'W', 'W', ' ', ' '], \n",
    "  [' ', 'W', 'E', ' ', 'W', ' ', ' '],\n",
    "  [' ', ' ', 'W', ' ', 'W', 'W', ' '],\n",
    "  [' ', ' ', 'W', ' ', ' ', ' ', ' '],\n",
    "  ['S', 'W', ' ', ' ', ' ', ' ', ' '],\n",
    " ])\n",
    "world_height = WORLD.shape[0]\n",
    "world_width = WORLD.shape[1]\n",
    "\n",
    "State = namedtuple('State', 'row col')\n",
    "initial_state = State(5, 0)"
   ]
  },
  {
   "cell_type": "markdown",
   "metadata": {},
   "source": [
    "## Reward Signal"
   ]
  },
  {
   "cell_type": "code",
   "execution_count": 178,
   "metadata": {},
   "outputs": [
    {
     "data": {
      "text/plain": [
       "0.0"
      ]
     },
     "execution_count": 178,
     "metadata": {},
     "output_type": "execute_result"
    }
   ],
   "source": [
    "def reward(state):\n",
    "    return 1.0 if WORLD[state.row, state.col] == 'E' else 0.0\n",
    "\n",
    "reward(initial_state)"
   ]
  },
  {
   "cell_type": "markdown",
   "metadata": {},
   "source": [
    "## Value Function"
   ]
  },
  {
   "cell_type": "code",
   "execution_count": 179,
   "metadata": {},
   "outputs": [
    {
     "name": "stdout",
     "output_type": "stream",
     "text": [
      "0.00000 0.00000 0.00000 0.00000 0.00000 0.00000 0.00000 \n",
      "0.00000 0.00000 0.00000 0.00000 0.00000 0.00000 0.00000 \n",
      "0.00000 0.00000 0.00000 0.00000 0.00000 0.00000 0.00000 \n",
      "0.00000 0.00000 0.00000 0.00000 0.00000 0.00000 0.00000 \n",
      "0.00000 0.00000 0.00000 0.00000 0.00000 0.00000 0.00000 \n",
      "0.00000 0.00000 0.00000 0.00000 0.00000 0.00000 0.00000 \n"
     ]
    }
   ],
   "source": [
    "def zero_values():\n",
    "    return np.zeros((WORLD.shape))\n",
    "\n",
    "def value(state):\n",
    "    return V[state.row, state.col]\n",
    "\n",
    "\n",
    "def show_values(decimal_numbers=5):\n",
    "    cell_value = \"{\" + \":.{}\".format(decimal_numbers) + \"f} \" \n",
    "    for row in range(V.shape[0]):\n",
    "        val = \"\" \n",
    "        for col in range(V.shape[1]):\n",
    "          val += cell_value.format(V[row, col])\n",
    "        print(val)\n",
    "        \n",
    "V = zero_values()\n",
    "# print(value(initial_state))\n",
    "show_values()"
   ]
  },
  {
   "cell_type": "markdown",
   "metadata": {},
   "source": [
    "## Policy\n",
    "- Deterministic: (e.g. always take the highest value) \n",
    "- Stochastic: (e.g. random exploration or epsilon-greedy)."
   ]
  },
  {
   "cell_type": "code",
   "execution_count": 180,
   "metadata": {},
   "outputs": [],
   "source": [
    "from enum import Enum\n",
    "\n",
    "class Action(Enum):\n",
    "    UP = 1\n",
    "    DOWN = 2\n",
    "    RIGHT = 3\n",
    "    LEFT = 4"
   ]
  },
  {
   "cell_type": "code",
   "execution_count": 519,
   "metadata": {
    "colab": {},
    "colab_type": "code",
    "id": "sVZnWke_lObf",
    "scrolled": true
   },
   "outputs": [
    {
     "data": {
      "text/plain": [
       "[<Action.UP: 1>]"
      ]
     },
     "execution_count": 519,
     "metadata": {},
     "output_type": "execute_result"
    }
   ],
   "source": [
    "def is_wall(position):\n",
    "    return WORLD[position.row, position.col] == 'W'\n",
    "def can_go_left(state):\n",
    "    return state.col > 0 and not is_wall(State(state.row, state.col-1))\n",
    "def can_go_right(state):\n",
    "    return state.col < world_width-1 and not is_wall(State(state.row, state.col+1))\n",
    "def can_go_up(state):\n",
    "    return state.row > 0 and not is_wall(State(state.row-1, state.col))\n",
    "def can_go_down(state):\n",
    "    return state.row < world_height-1 and not is_wall(State(state.row+1, state.col))\n",
    "def possible_actions(state):\n",
    "    actions = []\n",
    "    if can_go_left(state):  actions.append(Action.LEFT)\n",
    "    if can_go_right(state): actions.append(Action.RIGHT)\n",
    "    if can_go_up(state):    actions.append(Action.UP)\n",
    "    if can_go_down(state):  actions.append(Action.DOWN)\n",
    "    return actions\n",
    "def end_state(state):\n",
    "    return WORLD[state.row, state.col] == 'E'\n",
    "\n",
    "possible_actions(initial_state)"
   ]
  },
  {
   "cell_type": "code",
   "execution_count": 520,
   "metadata": {
    "colab": {},
    "colab_type": "code",
    "id": "hEijGMBg9y9Y"
   },
   "outputs": [
    {
     "name": "stdout",
     "output_type": "stream",
     "text": [
      "Action.DOWN\n"
     ]
    }
   ],
   "source": [
    "import random\n",
    "\n",
    "def go_up(state):\n",
    "    return State(state.row-1, state.col)\n",
    "def go_down(state):\n",
    "    return State(state.row+1, state.col)\n",
    "def go_left(state):\n",
    "    return State(state.row, state.col-1)\n",
    "def go_right(state):\n",
    "    return State(state.row, state.col+1)\n",
    "\n",
    "def take_action(prev_state, action):\n",
    "    if action is Action.UP: return go_up(prev_state)\n",
    "    if action is Action.DOWN: return go_down(prev_state)\n",
    "    if action is Action.LEFT: return go_left(prev_state)\n",
    "    if action is Action.RIGHT: return go_right(prev_state)\n",
    "    \n",
    "def converged(steps_per_episode, num_of_evaluations=10):\n",
    "    if (len(steps_per_episode) <= num_of_evaluations):\n",
    "        return False\n",
    "    else:\n",
    "        tail = steps_per_episode[-num_of_evaluations:]\n",
    "        last = steps_per_episode[-1]\n",
    "        return all(last == steps for steps in tail)\n",
    "    \n",
    "def random_exploration(state):\n",
    "    return random.choice(possible_actions(state)) \n",
    "\n",
    "def maximum_value(state):\n",
    "    actions = random.choice(possible_actions(state)) \n",
    "    action_to_values = {}\n",
    "    for action in possible_actions(state):\n",
    "        action_to_values[action] = value(take_action(state, action))\n",
    "    max_value = max(action_to_values.values())\n",
    "    max_actions = [a for a, v in action_to_values.items() if v == max_value]\n",
    "    return random.choice(max_actions)\n",
    "\n",
    "def epsylon_greedy(state, current_episode, episodes_to_exploitation):\n",
    "    epsylon = 1 - (current_episode / episodes_to_exploitation)\n",
    "    epsylon = max(0, epsylon)\n",
    "    rand_number = random.random()\n",
    "    if (rand_number < epsylon):\n",
    "        action = random_exploration(state)\n",
    "    else:\n",
    "        action = maximum_value(state)\n",
    "    return action\n",
    "\n",
    "def next_action(state, policy, episode):\n",
    "    if policy == \"EPSY\":\n",
    "        action = epsylon_greedy(state, episode, episodes_to_exploitation=50)\n",
    "    elif policy == \"MAX\":\n",
    "        action = maximum_value(state)\n",
    "    elif policy == \"RAND\":\n",
    "        action = random_exploration(state)\n",
    "    else: print(\"PI: Not implemented\")\n",
    "    return action\n",
    "\n",
    "# print(maximum_value(State(5, 3)))\n",
    "print(epsylon_greedy(State(4, 0), 0, 1))"
   ]
  },
  {
   "cell_type": "markdown",
   "metadata": {},
   "source": [
    "## Temporal Difference Learning\n",
    "\n",
    "**Parameters:**\n",
    "\n",
    "Alpha - Learning Rate [0, 1] - How much we update our value estimate at each sample\n",
    "\n",
    "Gamma - Discount Rate [0, 1]"
   ]
  },
  {
   "cell_type": "code",
   "execution_count": 517,
   "metadata": {
    "scrolled": true
   },
   "outputs": [
    {
     "name": "stdout",
     "output_type": "stream",
     "text": [
      "0.80902 0.92723 1.05690 1.19940 1.35625 1.52913 0.00000 \n",
      "0.70102 0.00000 0.00000 0.00000 0.00000 1.71990 1.93064 \n",
      "0.60215 0.00000 5.20059 4.67033 0.00000 0.00000 2.16362 \n",
      "0.51141 0.00000 0.00000 4.19246 0.00000 0.00000 2.42140 \n",
      "0.42799 0.00000 0.00000 3.76169 3.37327 3.02293 2.70679 \n",
      "0.35128 0.00000 0.00000 0.00000 0.10509 0.00000 0.00000 \n"
     ]
    }
   ],
   "source": [
    "V = zero_values()\n",
    "\n",
    "# policy = \"EPSY\"\n",
    "policy = \"MAX\"\n",
    "# policy = \"RAND\"\n",
    "\n",
    "alpha = 0.75\n",
    "gamma = 0.9\n",
    "max_episodes = 80\n",
    "\n",
    "steps_per_episode = []\n",
    "episode = 0\n",
    "while(not converged(steps_per_episode, num_of_evaluations=15) and episode < max_episodes):\n",
    "    state = initial_state\n",
    "    exploring = True\n",
    "    step = 0\n",
    "    while(exploring):\n",
    "        action = next_action(state, policy, episode)\n",
    "        next_state = take_action(state, action)\n",
    "        learning = alpha * (reward(state) + gamma * value(next_state) - value(state))\n",
    "        V[state.row, state.col] += learning\n",
    "        if end_state(state):\n",
    "            exploring = False\n",
    "            episode += 1\n",
    "        else:\n",
    "            state = next_state\n",
    "            step +=1\n",
    "    steps_per_episode.append(step)\n",
    "show_values(decimal_numbers=5)"
   ]
  },
  {
   "cell_type": "code",
   "execution_count": 518,
   "metadata": {},
   "outputs": [
    {
     "name": "stdout",
     "output_type": "stream",
     "text": [
      "Episodes required: 36\n",
      "Maximum steps: 833\n",
      "Minimum steps: 21\n",
      "[833, 279, 181, 633, 67, 207, 135, 119, 111, 29, 157, 173, 133, 73, 29, 53, 27, 43, 23, 35, 29, 21, 21, 21, 21, 21, 21, 21, 21, 21, 21, 21, 21, 21, 21, 21]\n"
     ]
    },
    {
     "data": {
      "image/png": "[encoded data removed]",
      "text/plain": [
       "<Figure size 576x360 with 1 Axes>"
      ]
     },
     "metadata": {
      "needs_background": "light"
     },
     "output_type": "display_data"
    }
   ],
   "source": [
    "%matplotlib inline\n",
    "import matplotlib.pyplot as plt\n",
    "\n",
    "number_of_episodes = len(steps_per_episode)\n",
    "print(\"Episodes required:\", number_of_episodes)\n",
    "max_steps = np.max(steps_per_episode)\n",
    "print(\"Maximum steps:\", max_steps)\n",
    "min_steps = np.min(steps_per_episode)\n",
    "print(\"Minimum steps:\", min_steps)\n",
    "fig = plt.figure(figsize=(8, 5));\n",
    "plt.plot(range(number_of_episodes), steps_per_episode)\n",
    "print(steps_per_episode)"
   ]
  },
  {
   "cell_type": "code",
   "execution_count": 537,
   "metadata": {},
   "outputs": [
    {
     "data": {
      "image/png": "[encoded data removed]",
      "text/plain": [
       "<Figure size 504x432 with 2 Axes>"
      ]
     },
     "metadata": {
      "needs_background": "light"
     },
     "output_type": "display_data"
    }
   ],
   "source": [
    "fig, axs = plt.subplots(figsize=(7, 6))\n",
    "im = axs.imshow(V, cmap=\"GnBu\")\n",
    "fig.colorbar(im, fraction=0.04, pad=0.03)\n",
    "plt.grid()\n",
    "plt.show()"
   ]
  },
  {
   "cell_type": "markdown",
   "metadata": {
    "colab_type": "text",
    "id": "trvfcOrxm9vs"
   },
   "source": [
    "## Strategy learned"
   ]
  },
  {
   "cell_type": "code",
   "execution_count": 521,
   "metadata": {},
   "outputs": [
    {
     "data": {
      "text/plain": [
       "[['R', 'R', 'R', 'R', 'R', 'D', 'D'],\n",
       " ['U', ' ', ' ', ' ', ' ', 'R', 'D'],\n",
       " ['U', ' ', 'R', 'L', ' ', 'R', 'D'],\n",
       " ['U', 'L', ' ', 'U', ' ', ' ', 'D'],\n",
       " ['U', 'L', ' ', 'U', 'L', 'L', 'L'],\n",
       " ['U', ' ', 'R', 'U', 'U', 'U', 'U']]"
      ]
     },
     "execution_count": 521,
     "metadata": {},
     "output_type": "execute_result"
    }
   ],
   "source": [
    "action_encoding = {\n",
    "    Action.UP: 'U',\n",
    "    Action.DOWN: 'D',\n",
    "    Action.LEFT: 'L',\n",
    "    Action.RIGHT: 'R',\n",
    "}\n",
    "\n",
    "def learned_strategy():\n",
    "    strategy = []\n",
    "    for row in range(world_height):\n",
    "        s_row = []\n",
    "        for col in range(world_width):\n",
    "            if is_wall(State(row, col)): s_row.append(\" \")\n",
    "            else:\n",
    "                action = maximum_value(State(row, col))\n",
    "                s_row.append(action_encoding[action])\n",
    "        strategy.append(s_row)\n",
    "    return strategy\n",
    "\n",
    "learned_strategy()"
   ]
  },
  {
   "cell_type": "code",
   "execution_count": 46,
   "metadata": {
    "colab": {},
    "colab_type": "code",
    "id": "yrfAHIYxm6Q7"
   },
   "outputs": [],
   "source": [
    "# Plot how V changes over learning\n",
    "# Plot how Policy changes"
   ]
  },
  {
   "cell_type": "code",
   "execution_count": 57,
   "metadata": {},
   "outputs": [
    {
     "data": {
      "text/plain": [
       "True"
      ]
     },
     "execution_count": 57,
     "metadata": {},
     "output_type": "execute_result"
    }
   ],
   "source": []
  },
  {
   "cell_type": "code",
   "execution_count": 599,
   "metadata": {},
   "outputs": [
    {
     "data": {
      "image/png": "[encoded data removed]",
      "text/plain": [
       "<Figure size 576x360 with 1 Axes>"
      ]
     },
     "metadata": {
      "needs_background": "light"
     },
     "output_type": "display_data"
    }
   ],
   "source": [
    "index = np.array(range(75))\n",
    "epsilon = np.maximum(0, (-0.02 * index) + 1)\n",
    "fig, ax = plt.subplots(figsize=(8, 5))\n",
    "ax.text(7, 0.35, \"Explore\", fontsize=14)\n",
    "ax.text(30, 0.70, \"Exploit\", fontsize=14)\n",
    "ax.plot(index, epsilon, color=\"k\")\n",
    "ax.fill_between(index, epsilon, color=\"green\", alpha=\"0.3\")\n",
    "ax.fill_between(index, epsilon, np.max(epsilon), alpha=\"0.3\")\n",
    "plt.xlabel(\"Episodes\")\n",
    "plt.ylabel(\"Epsilon\")\n",
    "plt.show()"
   ]
  },
  {
   "cell_type": "code",
   "execution_count": null,
   "metadata": {},
   "outputs": [],
   "source": []
  }
 ],
 "metadata": {
  "colab": {
   "collapsed_sections": [],
   "name": "RL-TemporalDiff.ipynb",
   "provenance": []
  },
  "kernelspec": {
   "display_name": "Python 3",
   "language": "python",
   "name": "python3"
  },
  "language_info": {
   "codemirror_mode": {
    "name": "ipython",
    "version": 3
   },
   "file_extension": ".py",
   "mimetype": "text/x-python",
   "name": "python",
   "nbconvert_exporter": "python",
   "pygments_lexer": "ipython3",
   "version": "3.7.1"
  }
 },
 "nbformat": 4,
 "nbformat_minor": 1
}
